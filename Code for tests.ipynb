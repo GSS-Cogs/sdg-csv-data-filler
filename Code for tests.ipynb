{
 "cells": [
  {
   "cell_type": "code",
   "execution_count": null,
   "metadata": {},
   "outputs": [],
   "source": [
    "import random\n",
    "\n",
    "df = csvs_to_pandas(url_to_csv=csv_1_path)\n",
    "\n",
    "for i in range(1):\n",
    "#     import ipdb; ipdb.set_trace()\n",
    "    row = random.choice(range(df.shape[0]))\n",
    "    col = random.choice(range(df.shape[1]))\n",
    "    df.iloc[row,col]=random.choice(['FILL_NA', 'OldValue1', 'OldValue2', 'OldValue3', 'to'])\n",
    "    print(df.iloc[row,col])\n"
   ]
  }
 ],
 "metadata": {
  "kernelspec": {
   "display_name": "Python 3",
   "language": "python",
   "name": "python3"
  },
  "language_info": {
   "codemirror_mode": {
    "name": "ipython",
    "version": 3
   },
   "file_extension": ".py",
   "mimetype": "text/x-python",
   "name": "python",
   "nbconvert_exporter": "python",
   "pygments_lexer": "ipython3",
   "version": "3.8.5"
  }
 },
 "nbformat": 4,
 "nbformat_minor": 4
}
