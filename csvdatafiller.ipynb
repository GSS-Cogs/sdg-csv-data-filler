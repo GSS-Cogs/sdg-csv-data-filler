{
 "cells": [
  {
   "cell_type": "code",
   "execution_count": 29,
   "metadata": {
    "scrolled": true
   },
   "outputs": [],
   "source": [
    "# -*- coding: utf-8 -*-\n",
    "# imports\n",
    "import pandas as pd\n",
    "import requests\n",
    "import re\n",
    "import os\n",
    "from yaml import safe_load, dump\n",
    "from bs4 import BeautifulSoup as bs\n",
    "import random\n",
    "from modules import get_mapping_dicts, find_csv_urls, csvs_to_pandas, fill_gaps, standardise_cell_values, write_csv\n",
    "\n",
    "\n",
    "\"\"\"\n",
    "sdg-csv-data-filler is the first module in a data pipeline to take\n",
    "data from the SDG data repo and make it exportable as CSVW.\n",
    "\"\"\"\n",
    "\n",
    "# setting paths to directories and files\n",
    "remote_data_url = \"https://github.com/ONSdigital/sdg-data/tree/develop/data\"\n",
    "cwd = os.getcwd()\n",
    "overrides_yam = (os.path.join(cwd,\"overrides_dict.yaml\"))\n",
    "data_path = os.path.join(cwd, 'data')\n",
    "out_path = os.path.join(cwd, 'out')"
   ]
  },
  {
   "cell_type": "code",
   "execution_count": 35,
   "metadata": {
    "scrolled": true
   },
   "outputs": [],
   "source": [
    "# def (data_url):\n",
    "    \n",
    "#     with open('overrides_dict.yaml') as file:\n",
    "#         generic_from_yam = safe_load(file)['generic_overrides']\n",
    "\n",
    "#     for _url in urls_gen:\n",
    "#         data_name = extract_name(_url)\n",
    "#         df = csvs_to_pandas(_url)\n",
    "#         if not df:\n",
    "#             continue\n",
    "#         df = fill_gaps(df, gap_filler_dict)\n",
    "#         df = standardise_headers(df)\n",
    "\n",
    "def entry_point(data_url=remote_data_url,\n",
    "                     overrides=overrides_yam,\n",
    "                     out_path=out_path):\n",
    "    # Get URLs\n",
    "    import ipdb; ipdb.set_trace()\n",
    "    urls_gen = find_csv_urls(data_url)\n",
    "    for url_to_csv in urls_gen:\n",
    "        # Create df of dataset \n",
    "        df = csvs_to_pandas(url_to_csv)\n",
    "        #Get overrides dict, limited to the dataset\n",
    "        overrides_dict = get_mapping_dicts(overrides, url_to_csv)\n",
    "        # Testing that the overrides work\n",
    "        df = override_writer(df, overrides_dict)\n",
    "        #Writing the df to csv locally. \n",
    "        pattern = \"(indicator_\\d{1,2}-\\d{1,2}-\\d+)$\"\n",
    "        file_name = f\"{re.search(pattern, url_to_csv).group(0)}_FILLED.csv\"\n",
    "        was_written = write_csv(df, out_path, file_name)\n",
    "        res_dict[file_name] = was_written\n",
    "    return res_dict"
   ]
  },
  {
   "cell_type": "code",
   "execution_count": null,
   "metadata": {},
   "outputs": [
    {
     "name": "stdout",
     "output_type": "stream",
     "text": [
      "> \u001b[0;32m<ipython-input-35-532872422700>\u001b[0m(19)\u001b[0;36mentry_point\u001b[0;34m()\u001b[0m\n",
      "\u001b[0;32m     18 \u001b[0;31m    \u001b[0;32mimport\u001b[0m \u001b[0mipdb\u001b[0m\u001b[0;34m;\u001b[0m \u001b[0mipdb\u001b[0m\u001b[0;34m.\u001b[0m\u001b[0mset_trace\u001b[0m\u001b[0;34m(\u001b[0m\u001b[0;34m)\u001b[0m\u001b[0;34m\u001b[0m\u001b[0;34m\u001b[0m\u001b[0m\n",
      "\u001b[0m\u001b[0;32m---> 19 \u001b[0;31m    \u001b[0murls_gen\u001b[0m \u001b[0;34m=\u001b[0m \u001b[0mfind_csv_urls\u001b[0m\u001b[0;34m(\u001b[0m\u001b[0mdata_url\u001b[0m\u001b[0;34m)\u001b[0m\u001b[0;34m\u001b[0m\u001b[0;34m\u001b[0m\u001b[0m\n",
      "\u001b[0m\u001b[0;32m     20 \u001b[0;31m    \u001b[0;32mfor\u001b[0m \u001b[0murl_to_csv\u001b[0m \u001b[0;32min\u001b[0m \u001b[0murls_gen\u001b[0m\u001b[0;34m:\u001b[0m\u001b[0;34m\u001b[0m\u001b[0;34m\u001b[0m\u001b[0m\n",
      "\u001b[0m\n",
      "ipdb> s\n",
      "> \u001b[0;32m<ipython-input-35-532872422700>\u001b[0m(20)\u001b[0;36mentry_point\u001b[0;34m()\u001b[0m\n",
      "\u001b[0;32m     19 \u001b[0;31m    \u001b[0murls_gen\u001b[0m \u001b[0;34m=\u001b[0m \u001b[0mfind_csv_urls\u001b[0m\u001b[0;34m(\u001b[0m\u001b[0mdata_url\u001b[0m\u001b[0;34m)\u001b[0m\u001b[0;34m\u001b[0m\u001b[0;34m\u001b[0m\u001b[0m\n",
      "\u001b[0m\u001b[0;32m---> 20 \u001b[0;31m    \u001b[0;32mfor\u001b[0m \u001b[0murl_to_csv\u001b[0m \u001b[0;32min\u001b[0m \u001b[0murls_gen\u001b[0m\u001b[0;34m:\u001b[0m\u001b[0;34m\u001b[0m\u001b[0;34m\u001b[0m\u001b[0m\n",
      "\u001b[0m\u001b[0;32m     21 \u001b[0;31m        \u001b[0;31m# Create df of dataset\u001b[0m\u001b[0;34m\u001b[0m\u001b[0;34m\u001b[0m\u001b[0;34m\u001b[0m\u001b[0m\n",
      "\u001b[0m\n",
      "ipdb> s\n",
      "--Call--\n",
      "> \u001b[0;32m/home/james/programming/sdg-csv-data-filler/modules.py\u001b[0m(23)\u001b[0;36mfind_csv_urls\u001b[0;34m()\u001b[0m\n",
      "\u001b[0;32m     22 \u001b[0;31m    \"\"\"\n",
      "\u001b[0m\u001b[0;32m---> 23 \u001b[0;31m    \u001b[0;32mwith\u001b[0m \u001b[0mopen\u001b[0m\u001b[0;34m(\u001b[0m\u001b[0mpath_to_yaml\u001b[0m\u001b[0;34m)\u001b[0m \u001b[0;32mas\u001b[0m \u001b[0mfile\u001b[0m\u001b[0;34m:\u001b[0m\u001b[0;34m\u001b[0m\u001b[0;34m\u001b[0m\u001b[0m\n",
      "\u001b[0m\u001b[0;32m     24 \u001b[0;31m        \u001b[0mdict_from_yam\u001b[0m \u001b[0;34m=\u001b[0m \u001b[0msafe_load\u001b[0m\u001b[0;34m(\u001b[0m\u001b[0mfile\u001b[0m\u001b[0;34m)\u001b[0m\u001b[0;34m[\u001b[0m\u001b[0murl\u001b[0m\u001b[0;34m]\u001b[0m\u001b[0;34m\u001b[0m\u001b[0;34m\u001b[0m\u001b[0m\n",
      "\u001b[0m\n",
      "ipdb> l\n",
      "\u001b[1;32m     18 \u001b[0m            \u001b[0murl\u001b[0m \u001b[0;34m(\u001b[0m\u001b[0mstring\u001b[0m\u001b[0;34m)\u001b[0m\u001b[0;34m:\u001b[0m \u001b[0mThe\u001b[0m \u001b[0msource\u001b[0m \u001b[0murl\u001b[0m \u001b[0;32mfor\u001b[0m \u001b[0mthe\u001b[0m \u001b[0mdataset\u001b[0m \u001b[0mwhich\u001b[0m \u001b[0;32mis\u001b[0m \u001b[0ma\u001b[0m \u001b[0munique\u001b[0m \u001b[0midentifier\u001b[0m\u001b[0;34m\u001b[0m\u001b[0;34m\u001b[0m\u001b[0m\n",
      "\u001b[1;32m     19 \u001b[0m        \u001b[0mReturns\u001b[0m\u001b[0;34m:\u001b[0m\u001b[0;34m\u001b[0m\u001b[0;34m\u001b[0m\u001b[0m\n",
      "\u001b[1;32m     20 \u001b[0m            \u001b[0mdict\u001b[0m\u001b[0;34m:\u001b[0m \u001b[0mdict_from_yam\u001b[0m\u001b[0;34m\u001b[0m\u001b[0;34m\u001b[0m\u001b[0m\n",
      "\u001b[1;32m     21 \u001b[0m\u001b[0;34m\u001b[0m\u001b[0m\n",
      "\u001b[1;32m     22 \u001b[0m    \"\"\"\n",
      "\u001b[0;32m---> 23 \u001b[0;31m    \u001b[0;32mwith\u001b[0m \u001b[0mopen\u001b[0m\u001b[0;34m(\u001b[0m\u001b[0mpath_to_yaml\u001b[0m\u001b[0;34m)\u001b[0m \u001b[0;32mas\u001b[0m \u001b[0mfile\u001b[0m\u001b[0;34m:\u001b[0m\u001b[0;34m\u001b[0m\u001b[0;34m\u001b[0m\u001b[0m\n",
      "\u001b[0m\u001b[1;32m     24 \u001b[0m        \u001b[0mdict_from_yam\u001b[0m \u001b[0;34m=\u001b[0m \u001b[0msafe_load\u001b[0m\u001b[0;34m(\u001b[0m\u001b[0mfile\u001b[0m\u001b[0;34m)\u001b[0m\u001b[0;34m[\u001b[0m\u001b[0murl\u001b[0m\u001b[0;34m]\u001b[0m\u001b[0;34m\u001b[0m\u001b[0;34m\u001b[0m\u001b[0m\n",
      "\u001b[1;32m     25 \u001b[0m\u001b[0;34m\u001b[0m\u001b[0m\n",
      "\u001b[1;32m     26 \u001b[0m    \u001b[0;32mreturn\u001b[0m \u001b[0mdict_from_yam\u001b[0m\u001b[0;34m\u001b[0m\u001b[0;34m\u001b[0m\u001b[0m\n",
      "\u001b[1;32m     27 \u001b[0m\u001b[0;34m\u001b[0m\u001b[0m\n",
      "\u001b[1;32m     28 \u001b[0m\u001b[0;34m\u001b[0m\u001b[0m\n",
      "\n",
      "ipdb> n\n",
      "> \u001b[0;32m/home/james/programming/sdg-csv-data-filler/modules.py\u001b[0m(34)\u001b[0;36mfind_csv_urls\u001b[0;34m()\u001b[0m\n",
      "\u001b[0;32m     33 \u001b[0;31m    \u001b[0mthe\u001b[0m \u001b[0mlinks\u001b[0m \u001b[0mof\u001b[0m \u001b[0mall\u001b[0m \u001b[0mfiles\u001b[0m \u001b[0;32min\u001b[0m \u001b[0mthe\u001b[0m \u001b[0mfolder\u001b[0m\u001b[0;34m.\u001b[0m\u001b[0;34m\u001b[0m\u001b[0;34m\u001b[0m\u001b[0m\n",
      "\u001b[0m\u001b[0;32m---> 34 \u001b[0;31m        \u001b[0mParameters\u001b[0m\u001b[0;34m:\u001b[0m\u001b[0;34m\u001b[0m\u001b[0;34m\u001b[0m\u001b[0m\n",
      "\u001b[0m\u001b[0;32m     35 \u001b[0;31m            \u001b[0murl\u001b[0m \u001b[0;34m(\u001b[0m\u001b[0mstring\u001b[0m\u001b[0;34m)\u001b[0m\u001b[0;34m:\u001b[0m \u001b[0mthe\u001b[0m \u001b[0mURL\u001b[0m \u001b[0mof\u001b[0m \u001b[0mthe\u001b[0m \u001b[0mrepo\u001b[0m\u001b[0;34m/\u001b[0m\u001b[0mfolder\u001b[0m \u001b[0mwhich\u001b[0m \u001b[0mcontains\u001b[0m\u001b[0;34m\u001b[0m\u001b[0;34m\u001b[0m\u001b[0m\n",
      "\u001b[0m\n",
      "ipdb> n\n",
      "NameError: name 'requests' is not defined\n",
      "> \u001b[0;32m/home/james/programming/sdg-csv-data-filler/modules.py\u001b[0m(34)\u001b[0;36mfind_csv_urls\u001b[0;34m()\u001b[0m\n",
      "\u001b[0;32m     33 \u001b[0;31m    \u001b[0mthe\u001b[0m \u001b[0mlinks\u001b[0m \u001b[0mof\u001b[0m \u001b[0mall\u001b[0m \u001b[0mfiles\u001b[0m \u001b[0;32min\u001b[0m \u001b[0mthe\u001b[0m \u001b[0mfolder\u001b[0m\u001b[0;34m.\u001b[0m\u001b[0;34m\u001b[0m\u001b[0;34m\u001b[0m\u001b[0m\n",
      "\u001b[0m\u001b[0;32m---> 34 \u001b[0;31m        \u001b[0mParameters\u001b[0m\u001b[0;34m:\u001b[0m\u001b[0;34m\u001b[0m\u001b[0;34m\u001b[0m\u001b[0m\n",
      "\u001b[0m\u001b[0;32m     35 \u001b[0;31m            \u001b[0murl\u001b[0m \u001b[0;34m(\u001b[0m\u001b[0mstring\u001b[0m\u001b[0;34m)\u001b[0m\u001b[0;34m:\u001b[0m \u001b[0mthe\u001b[0m \u001b[0mURL\u001b[0m \u001b[0mof\u001b[0m \u001b[0mthe\u001b[0m \u001b[0mrepo\u001b[0m\u001b[0;34m/\u001b[0m\u001b[0mfolder\u001b[0m \u001b[0mwhich\u001b[0m \u001b[0mcontains\u001b[0m\u001b[0;34m\u001b[0m\u001b[0;34m\u001b[0m\u001b[0m\n",
      "\u001b[0m\n",
      "ipdb> requests\n",
      "*** NameError: name 'requests' is not defined\n"
     ]
    }
   ],
   "source": [
    "res_dict = entry_point()"
   ]
  },
  {
   "cell_type": "code",
   "execution_count": null,
   "metadata": {},
   "outputs": [],
   "source": []
  },
  {
   "cell_type": "code",
   "execution_count": null,
   "metadata": {},
   "outputs": [],
   "source": []
  }
 ],
 "metadata": {
  "kernelspec": {
   "display_name": "Python 3",
   "language": "python",
   "name": "python3"
  },
  "language_info": {
   "codemirror_mode": {
    "name": "ipython",
    "version": 3
   },
   "file_extension": ".py",
   "mimetype": "text/x-python",
   "name": "python",
   "nbconvert_exporter": "python",
   "pygments_lexer": "ipython3",
   "version": "3.8.5"
  }
 },
 "nbformat": 4,
 "nbformat_minor": 4
}
