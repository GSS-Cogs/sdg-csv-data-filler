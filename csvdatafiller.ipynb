{
 "cells": [
  {
   "cell_type": "code",
   "execution_count": 1,
   "metadata": {
    "collapsed": true,
    "scrolled": true
   },
   "outputs": [],
   "source": [
    "# -*- coding: utf-8 -*-\n",
    "#\n",
    "# imports\n",
    "import pandas as pd\n",
    "import requests\n",
    "import re\n",
    "import os\n",
    "from yaml import safe_load, dump\n",
    "from bs4 import BeautifulSoup as bs\n",
    "import random\n",
    "from modules import prevent_bad_replacement, delete_random_values, write_csv, standardise_cell_values, fill_gaps, csvs_to_pandas, find_csv_urls, get_mapping_dicts, override_writer\n",
    "\n",
    "\n",
    "\"\"\"\n",
    "sdg-csv-data-filler is the first module in a data pipeline to take\n",
    "data from the SDG data repo and make it exportable as CSVW.\n",
    "\"\"\"\n",
    "\n",
    "# setting paths to directories and files\n",
    "remote_data_url = \"https://github.com/ONSdigital/sdg-data/tree/develop/data\"\n",
    "cwd = os.getcwd()\n",
    "data_path = os.path.join(cwd, 'data')\n",
    "out_path = os.path.join(cwd, 'out')\n",
    "overrides_yam = (os.path.join(cwd,\"overrides_dict.yaml\"))\n"
   ]
  },
  {
   "cell_type": "code",
   "execution_count": 4,
   "metadata": {
    "collapsed": true,
    "scrolled": true
   },
   "outputs": [],
   "source": [
    "def entry_point(data_url):\n",
    "    # generate urls\n",
    "    urls_gen = find_csv_urls(data_url)\n",
    "    with open('overrides_dict.yaml') as file:\n",
    "        generic_from_yam = safe_load(file)['generic_overrides']\n",
    "\n",
    "    # define pattern for name matching outside the for-loop. Used for writing out later\n",
    "    pattern = \"(indicator_\\d{1,2}-\\d{1,2}-\\d+\\.csv)$\"\n",
    "\n",
    "    # create an empty results dict\n",
    "    results = {}\n",
    "\n",
    "    for _url in urls_gen:\n",
    "        # get the overrides dict for this dataset\n",
    "        overrides_dict = get_mapping_dicts(overrides_yam, _url)\n",
    "        # Create df\n",
    "        df = csvs_to_pandas(_url)\n",
    "\n",
    "                #get dataset name\n",
    "        file_name = f\"{re.search(pattern, _url).group(0)}\"\n",
    "\n",
    "        if df is None or df.empty: # sometimes no df will be returned so it needs to be skipped\n",
    "            results[file_name] = False\n",
    "            continue\n",
    "        # Apply transformations to the df \n",
    "        df = override_writer(df, overrides_dict)\n",
    "        \n",
    "\n",
    "\n",
    "        #Writing the df to csv locally. \n",
    "        was_written = write_csv(df, out_path, file_name)\n",
    "        results[file_name] = was_written\n",
    "\n",
    "    return results"
   ]
  },
  {
   "cell_type": "code",
   "execution_count": 5,
   "metadata": {
    "tags": []
   },
   "outputs": [
    {
     "name": "stderr",
     "output_type": "stream",
     "text": [
      "C:\\Anaconda3\\lib\\site-packages\\IPython\\core\\interactiveshell.py:3326: DtypeWarning: Columns (4,5,6,7) have mixed types. Specify dtype option on import or set low_memory=False.\n",
      "  exec(code_obj, self.user_global_ns, self.user_ns)\n"
     ]
    }
   ],
   "source": [
    "results = entry_point(data_url=remote_data_url)"
   ]
  },
  {
   "cell_type": "code",
   "execution_count": 6,
   "metadata": {},
   "outputs": [
    {
     "data": {
      "text/plain": [
       "{&#39;indicator_1-1-1.csv&#39;: True,\n",
       " &#39;indicator_1-2-1.csv&#39;: True,\n",
       " &#39;indicator_1-2-2.csv&#39;: True,\n",
       " &#39;indicator_1-4-2.csv&#39;: True,\n",
       " &#39;indicator_1-5-1.csv&#39;: True,\n",
       " &#39;indicator_1-5-3.csv&#39;: True,\n",
       " &#39;indicator_1-5-4.csv&#39;: True,\n",
       " &#39;indicator_2-1-1.csv&#39;: True,\n",
       " &#39;indicator_2-1-2.csv&#39;: True,\n",
       " &#39;indicator_2-2-2.csv&#39;: True,\n",
       " &#39;indicator_2-3-1.csv&#39;: True,\n",
       " &#39;indicator_2-3-2.csv&#39;: True,\n",
       " &#39;indicator_2-5-1.csv&#39;: True,\n",
       " &#39;indicator_2-5-2.csv&#39;: True,\n",
       " &#39;indicator_3-1-1.csv&#39;: True,\n",
       " &#39;indicator_3-1-2.csv&#39;: True,\n",
       " &#39;indicator_3-2-1.csv&#39;: True,\n",
       " &#39;indicator_3-2-2.csv&#39;: True,\n",
       " &#39;indicator_3-3-1.csv&#39;: True,\n",
       " &#39;indicator_3-3-2.csv&#39;: True,\n",
       " &#39;indicator_3-3-3.csv&#39;: True,\n",
       " &#39;indicator_3-3-4.csv&#39;: True,\n",
       " &#39;indicator_3-3-5.csv&#39;: True,\n",
       " &#39;indicator_3-4-1.csv&#39;: True,\n",
       " &#39;indicator_3-4-2.csv&#39;: True,\n",
       " &#39;indicator_3-5-2.csv&#39;: True,\n",
       " &#39;indicator_3-6-1.csv&#39;: True,\n",
       " &#39;indicator_3-7-1.csv&#39;: True,\n",
       " &#39;indicator_3-7-2.csv&#39;: True,\n",
       " &#39;indicator_3-8-2.csv&#39;: True,\n",
       " &#39;indicator_3-9-1.csv&#39;: True,\n",
       " &#39;indicator_3-9-2.csv&#39;: True,\n",
       " &#39;indicator_3-9-3.csv&#39;: True,\n",
       " &#39;indicator_4-1-1.csv&#39;: True,\n",
       " &#39;indicator_4-2-1.csv&#39;: True,\n",
       " &#39;indicator_4-2-2.csv&#39;: True,\n",
       " &#39;indicator_4-3-1.csv&#39;: True,\n",
       " &#39;indicator_4-4-1.csv&#39;: True,\n",
       " &#39;indicator_4-5-1.csv&#39;: True,\n",
       " &#39;indicator_4-6-1.csv&#39;: True,\n",
       " &#39;indicator_4-7-1.csv&#39;: True,\n",
       " &#39;indicator_5-1-1.csv&#39;: True,\n",
       " &#39;indicator_5-2-1.csv&#39;: True,\n",
       " &#39;indicator_5-2-2.csv&#39;: True,\n",
       " &#39;indicator_5-3-1.csv&#39;: True,\n",
       " &#39;indicator_5-3-2.csv&#39;: True,\n",
       " &#39;indicator_5-4-1.csv&#39;: True,\n",
       " &#39;indicator_5-5-1.csv&#39;: True,\n",
       " &#39;indicator_5-5-2.csv&#39;: True,\n",
       " &#39;indicator_5-6-1.csv&#39;: True,\n",
       " &#39;indicator_5-6-2.csv&#39;: True,\n",
       " &#39;indicator_6-1-1.csv&#39;: True,\n",
       " &#39;indicator_6-2-1.csv&#39;: True,\n",
       " &#39;indicator_6-3-2.csv&#39;: True,\n",
       " &#39;indicator_6-4-2.csv&#39;: True,\n",
       " &#39;indicator_6-5-1.csv&#39;: True,\n",
       " &#39;indicator_6-5-2.csv&#39;: True,\n",
       " &#39;indicator_7-1-1.csv&#39;: True,\n",
       " &#39;indicator_7-1-2.csv&#39;: True,\n",
       " &#39;indicator_7-2-1.csv&#39;: True,\n",
       " &#39;indicator_7-3-1.csv&#39;: True,\n",
       " &#39;indicator_8-1-1.csv&#39;: True,\n",
       " &#39;indicator_8-10-1.csv&#39;: True,\n",
       " &#39;indicator_8-10-2.csv&#39;: True,\n",
       " &#39;indicator_8-2-1.csv&#39;: True,\n",
       " &#39;indicator_8-3-1.csv&#39;: True,\n",
       " &#39;indicator_8-4-1.csv&#39;: True,\n",
       " &#39;indicator_8-4-2.csv&#39;: True,\n",
       " &#39;indicator_8-5-1.csv&#39;: True,\n",
       " &#39;indicator_8-5-2.csv&#39;: True,\n",
       " &#39;indicator_8-6-1.csv&#39;: True,\n",
       " &#39;indicator_8-8-1.csv&#39;: True,\n",
       " &#39;indicator_8-9-1.csv&#39;: True,\n",
       " &#39;indicator_8-9-2.csv&#39;: True,\n",
       " &#39;indicator_9-1-1.csv&#39;: True,\n",
       " &#39;indicator_9-1-2.csv&#39;: True,\n",
       " &#39;indicator_9-2-1.csv&#39;: True,\n",
       " &#39;indicator_9-2-2.csv&#39;: True,\n",
       " &#39;indicator_9-3-1.csv&#39;: True,\n",
       " &#39;indicator_9-4-1.csv&#39;: True,\n",
       " &#39;indicator_9-5-1.csv&#39;: True,\n",
       " &#39;indicator_9-5-2.csv&#39;: True}"
      ]
     },
     "execution_count": 6,
     "metadata": {},
     "output_type": "execute_result"
    }
   ],
   "source": [
    "results"
   ]
  },
  {
   "cell_type": "code",
   "execution_count": 13,
   "metadata": {
    "tags": []
   },
   "outputs": [
    {
     "name": "stdout",
     "output_type": "stream",
     "text": [
      "number of CSVs missing from output = 13\n"
     ]
    }
   ],
   "source": [
    "print(f\"number of CSVs missing from output = {len(list(find_csv_urls(remote_data_url)))-len(results.keys())}\")"
   ]
  },
  {
   "cell_type": "code",
   "execution_count": 11,
   "metadata": {},
   "outputs": [
    {
     "data": {
      "text/plain": [
       "95"
      ]
     },
     "execution_count": 11,
     "metadata": {},
     "output_type": "execute_result"
    }
   ],
   "source": []
  },
  {
   "cell_type": "code",
   "execution_count": null,
   "metadata": {
    "collapsed": true
   },
   "outputs": [],
   "source": []
  }
 ],
 "metadata": {
  "kernelspec": {
   "display_name": "Python 3",
   "language": "python",
   "name": "python3"
  },
  "language_info": {
   "codemirror_mode": {
    "name": "ipython",
    "version": 3
   },
   "file_extension": ".py",
   "mimetype": "text/x-python",
   "name": "python",
   "nbconvert_exporter": "python",
   "pygments_lexer": "ipython3",
   "version": "3.6.2"
  }
 },
 "nbformat": 4,
 "nbformat_minor": 4
}
