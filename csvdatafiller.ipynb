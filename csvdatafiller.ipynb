{
 "cells": [
  {
   "cell_type": "code",
   "execution_count": null,
   "metadata": {},
   "outputs": [],
   "source": [
    "# -*- coding: utf-8 -*-\n",
    "\n",
    "\"\"\"\n",
    "sdg-csv-data-filler is the first module in a data pipeline to take\n",
    "data from the SDG data repo, and make it exportable as CSVW.\n",
    "\"\"\"\n",
    " \n",
    "def find_csv_urls(url):\n",
    "    \"\"\"\n",
    "    Provided with a data folder URL, this function finds the URLS\n",
    "    of the CSV files within the folder. A generator is yielded with\n",
    "    the links of all files in the folder.\n",
    "        Parameters:\n",
    "            url (string): the URL of the repo/folder which contains\n",
    "                the CSV files to be captured\n",
    "        Yields:\n",
    "            string: the next URL for the next CSV file in the folder \n",
    "    \"\"\"\n",
    "    \n",
    "def csvs_to_pandas(url):\n",
    "    \"\"\"\n",
    "    Provided with a URL of a file, the fucntion will check if the CSV\n",
    "    is populated and if not empty return a Pandas dataframe of the CSV\n",
    "        Parameters:\n",
    "            url (string): the URL of a CSV file to be captured\n",
    "        Returns:\n",
    "            pd.DataFrame: a Pandas dataframe of the CSV\n",
    "    \"\"\"\n",
    "    \n",
    "    \n",
    "def fill_gaps(pd_df, gap_filler_dict):\n",
    "    \"\"\"\n",
    "    Given a Pandas dataframe and a dictionary containing the column names\n",
    "    the correct 'fillers' for each column, this function will fill\n",
    "    each column with the correct values when empty cells are found.\n",
    "        Parameters:\n",
    "            pd_df (pd.Dataframe): the variable to which the dataframe \n",
    "                containing the csv data is assigned\n",
    "            gap_filler_dict (dict): a dictionary with column name and value \n",
    "                to fill gaps as key value pairs, e.g.\n",
    "                {\"Age\":\"All\",\"Sex\":\"T\"}\n",
    "        Returns:\n",
    "            pd.Dataframe: A dataframe with all cells full\"\"\"\n",
    "    \n",
    "def write_csv(pd_df, path):\n",
    "    \"\"\"\n",
    "    Converts a Pandas dataframe to CSV and writes it out to a local folder.\n",
    "        Parameters:\n",
    "            pd_df (pd.Dataframe): \n",
    "            path (string): the path of the local \"out\" folder\n",
    "        Returns:\n",
    "            writes csv \"\"\""
   ]
  }
 ],
 "metadata": {
  "kernelspec": {
   "display_name": "Python 3",
   "language": "python",
   "name": "python3"
  },
  "language_info": {
   "codemirror_mode": {
    "name": "ipython",
    "version": 3
   },
   "file_extension": ".py",
   "mimetype": "text/x-python",
   "name": "python",
   "nbconvert_exporter": "python",
   "pygments_lexer": "ipython3",
   "version": "3.8.3"
  }
 },
 "nbformat": 4,
 "nbformat_minor": 4
}
