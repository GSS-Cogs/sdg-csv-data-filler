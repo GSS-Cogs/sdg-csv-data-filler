{
 "cells": [
  {
   "cell_type": "code",
   "execution_count": 14,
   "metadata": {
    "scrolled": true
   },
   "outputs": [],
   "source": [
    "# -*- coding: utf-8 -*-\n",
    "# imports\n",
    "import pandas as pd\n",
    "import requests\n",
    "import re\n",
    "import os\n",
    "from yaml import safe_load, dump\n",
    "from bs4 import BeautifulSoup as bs\n",
    "import random\n",
    "from modules import get_mapping_dicts, find_csv_urls, csvs_to_pandas, fill_gaps, standardise_cell_values, write_csv\n",
    "\n",
    "\n",
    "\"\"\"\n",
    "sdg-csv-data-filler is the first module in a data pipeline to take\n",
    "data from the SDG data repo and make it exportable as CSVW.\n",
    "\"\"\"\n",
    "\n",
    "# setting paths to directories and files\n",
    "remote_data_url = \"https://github.com/ONSdigital/sdg-data/tree/develop/data\"\n",
    "cwd = os.getcwd()\n",
    "data_path = os.path.join(cwd, 'data')\n",
    "out_path = os.path.join(cwd, 'out')\n",
    "gap_filler_yam_path = (os.path.join\n",
    "                       (\"substitutions\",\n",
    "                        \"gap_filler.yaml\"))\n",
    "header_mapping_yam_path = (os.path.join\n",
    "                           (\"substitutions\",\n",
    "                            \"header_mapping.yaml\"))"
   ]
  },
  {
   "cell_type": "code",
   "execution_count": 15,
   "metadata": {
    "scrolled": true
   },
   "outputs": [],
   "source": [
    "# def entry_point(data_url):\n",
    "#     urls_gen = find_csv_urls(data_url)\n",
    "#     with open('overrides_dict.yaml') as file:\n",
    "#         generic_from_yam = safe_load(file)['generic_overrides']\n",
    "\n",
    "#     for _url in urls_gen:\n",
    "#         data_name = extract_name(_url)\n",
    "#         df = csvs_to_pandas(_url)\n",
    "#         if not df:\n",
    "#             continue\n",
    "#         df = fill_gaps(df, gap_filler_dict)\n",
    "#         df = standardise_headers(df)\n",
    "#         write_csv(df, out_path)\n",
    "\n",
    "# if __name__ == \"__main__\":\n",
    "#     entry_point(data_url=remote_data_url)"
   ]
  }
 ],
 "metadata": {
  "kernelspec": {
   "display_name": "Python 3",
   "language": "python",
   "name": "python3"
  },
  "language_info": {
   "codemirror_mode": {
    "name": "ipython",
    "version": 3
   },
   "file_extension": ".py",
   "mimetype": "text/x-python",
   "name": "python",
   "nbconvert_exporter": "python",
   "pygments_lexer": "ipython3",
   "version": "3.8.5"
  }
 },
 "nbformat": 4,
 "nbformat_minor": 4
}
