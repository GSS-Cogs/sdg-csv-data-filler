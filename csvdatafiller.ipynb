{
 "cells": [
  {
   "cell_type": "code",
   "execution_count": 14,
   "metadata": {
    "scrolled": true
   },
   "outputs": [],
   "source": [
    "# -*- coding: utf-8 -*-\n",
    "# imports\n",
    "import pandas as pd\n",
    "import requests\n",
    "import re\n",
    "import os\n",
    "from yaml import safe_load, dump\n",
    "from bs4 import BeautifulSoup as bs\n",
    "import random\n",
    "from modules import get_mapping_dicts, find_csv_urls, csvs_to_pandas, fill_gaps, standardise_cell_values, write_csv\n",
    "\n",
    "\n",
    "\"\"\"\n",
    "sdg-csv-data-filler is the first module in a data pipeline to take\n",
    "data from the SDG data repo and make it exportable as CSVW.\n",
    "\"\"\"\n",
    "\n",
    "# setting paths to directories and files\n",
    "remote_data_url = \"https://github.com/ONSdigital/sdg-data/tree/develop/data\"\n",
    "cwd = os.getcwd()\n",
    "data_path = os.path.join(cwd, 'data')\n",
    "out_path = os.path.join(cwd, 'out')\n",
    "gap_filler_yam_path = (os.path.join\n",
    "                       (\"substitutions\",\n",
    "                        \"gap_filler.yaml\"))\n",
    "header_mapping_yam_path = (os.path.join\n",
    "                           (\"substitutions\",\n",
    "                            \"header_mapping.yaml\"))"
   ]
  },
  {
   "cell_type": "code",
   "execution_count": 15,
   "metadata": {
    "scrolled": true
   },
   "outputs": [],
   "source": [
    "# def entry_point(data_url):\n",
    "#     urls_gen = find_csv_urls(data_url)\n",
    "#     with open('overrides_dict.yaml') as file:\n",
    "#         generic_from_yam = safe_load(file)['generic_overrides']\n",
    "\n",
    "#     for _url in urls_gen:\n",
    "#         data_name = extract_name(_url)\n",
    "#         df = csvs_to_pandas(_url)\n",
    "#         if not df:\n",
    "#             continue\n",
    "#         df = fill_gaps(df, gap_filler_dict)\n",
    "#         df = standardise_headers(df)\n",
    "#         write_csv(df, out_path)\n",
    "\n",
    "# if __name__ == \"__main__\":\n",
    "#     entry_point(data_url=remote_data_url)"
   ]
  },
  {
   "cell_type": "code",
   "execution_count": 16,
   "metadata": {},
   "outputs": [
    {
     "ename": "NameError",
     "evalue": "name 'requests' is not defined",
     "output_type": "error",
     "traceback": [
      "\u001b[0;31m---------------------------------------------------------------------------\u001b[0m",
      "\u001b[0;31mNameError\u001b[0m                                 Traceback (most recent call last)",
      "\u001b[0;32m<ipython-input-16-028dfcbb9096>\u001b[0m in \u001b[0;36m<module>\u001b[0;34m\u001b[0m\n\u001b[1;32m      4\u001b[0m \u001b[0;34m\u001b[0m\u001b[0m\n\u001b[1;32m      5\u001b[0m \u001b[0;34m\u001b[0m\u001b[0m\n\u001b[0;32m----> 6\u001b[0;31m \u001b[0;32mfor\u001b[0m \u001b[0murl\u001b[0m \u001b[0;32min\u001b[0m \u001b[0mcsv_gen\u001b[0m\u001b[0;34m:\u001b[0m\u001b[0;34m\u001b[0m\u001b[0;34m\u001b[0m\u001b[0m\n\u001b[0m\u001b[1;32m      7\u001b[0m     \u001b[0;32mif\u001b[0m \u001b[0;34m\"no data for this indicator yet\"\u001b[0m \u001b[0;32min\u001b[0m \u001b[0mstr\u001b[0m\u001b[0;34m(\u001b[0m\u001b[0mbs\u001b[0m\u001b[0;34m(\u001b[0m\u001b[0mrequests\u001b[0m\u001b[0;34m.\u001b[0m\u001b[0mget\u001b[0m\u001b[0;34m(\u001b[0m\u001b[0murl\u001b[0m\u001b[0;34m)\u001b[0m\u001b[0;34m.\u001b[0m\u001b[0mtext\u001b[0m\u001b[0;34m)\u001b[0m\u001b[0;34m)\u001b[0m\u001b[0;34m:\u001b[0m\u001b[0;34m\u001b[0m\u001b[0;34m\u001b[0m\u001b[0m\n\u001b[1;32m      8\u001b[0m         \u001b[0;32mcontinue\u001b[0m\u001b[0;34m\u001b[0m\u001b[0;34m\u001b[0m\u001b[0m\n",
      "\u001b[0;32m~/programming/sdg-csv-data-filler/modules.py\u001b[0m in \u001b[0;36mfind_csv_urls\u001b[0;34m(url)\u001b[0m\n\u001b[1;32m     32\u001b[0m     \u001b[0mof\u001b[0m \u001b[0mthe\u001b[0m \u001b[0mCSV\u001b[0m \u001b[0mfiles\u001b[0m \u001b[0mwithin\u001b[0m \u001b[0mthe\u001b[0m \u001b[0mfolder\u001b[0m\u001b[0;34m.\u001b[0m \u001b[0mA\u001b[0m \u001b[0mgenerator\u001b[0m \u001b[0;32mis\u001b[0m \u001b[0myielded\u001b[0m \u001b[0;32mwith\u001b[0m\u001b[0;34m\u001b[0m\u001b[0;34m\u001b[0m\u001b[0m\n\u001b[1;32m     33\u001b[0m     \u001b[0mthe\u001b[0m \u001b[0mlinks\u001b[0m \u001b[0mof\u001b[0m \u001b[0mall\u001b[0m \u001b[0mfiles\u001b[0m \u001b[0;32min\u001b[0m \u001b[0mthe\u001b[0m \u001b[0mfolder\u001b[0m\u001b[0;34m.\u001b[0m\u001b[0;34m\u001b[0m\u001b[0;34m\u001b[0m\u001b[0m\n\u001b[0;32m---> 34\u001b[0;31m         \u001b[0mParameters\u001b[0m\u001b[0;34m:\u001b[0m\u001b[0;34m\u001b[0m\u001b[0;34m\u001b[0m\u001b[0m\n\u001b[0m\u001b[1;32m     35\u001b[0m             \u001b[0murl\u001b[0m \u001b[0;34m(\u001b[0m\u001b[0mstring\u001b[0m\u001b[0;34m)\u001b[0m\u001b[0;34m:\u001b[0m \u001b[0mthe\u001b[0m \u001b[0mURL\u001b[0m \u001b[0mof\u001b[0m \u001b[0mthe\u001b[0m \u001b[0mrepo\u001b[0m\u001b[0;34m/\u001b[0m\u001b[0mfolder\u001b[0m \u001b[0mwhich\u001b[0m \u001b[0mcontains\u001b[0m\u001b[0;34m\u001b[0m\u001b[0;34m\u001b[0m\u001b[0m\n\u001b[1;32m     36\u001b[0m                 \u001b[0mthe\u001b[0m \u001b[0mCSV\u001b[0m \u001b[0mfiles\u001b[0m \u001b[0mto\u001b[0m \u001b[0mbe\u001b[0m \u001b[0mcaptured\u001b[0m\u001b[0;34m\u001b[0m\u001b[0;34m\u001b[0m\u001b[0m\n",
      "\u001b[0;31mNameError\u001b[0m: name 'requests' is not defined"
     ]
    }
   ],
   "source": [
    "to_write = \"\"\n",
    "remote_data_url = \"https://github.com/ONSdigital/sdg-data/tree/develop/data\"\n",
    "csv_gen = find_csv_urls(remote_data_url)\n",
    "\n",
    "\n",
    "for url in csv_gen:\n",
    "    if \"no data for this indicator yet\" in str(bs(requests.get(url).text)):\n",
    "        continue\n",
    "    yam_txt=f\"{url} : \\n\"\n",
    "    df = pd.read_csv(url)\n",
    "#     import ipdb; ipdb.set_trace()\n",
    "    header_overide_txt = \"\"\n",
    "    column_specific_value_override=\"\"\n",
    "    for column in df.columns:\n",
    "        header_overide_txt+=f\"\"\"#Header override for \\'{column}\\'\n",
    "    {column} :\n",
    "        to : correct_header_for_{column.replace(\" \",\"_\")}\\n\"\"\"\n",
    "        column_specific_value_override+=f\"\"\"#Value overrides for column \\'{column}\\'\n",
    "        FILL_NA: filler_value\n",
    "        OldValue1: NewValue1\n",
    "        OldValue2: NewValue2\n",
    "        OldValue3: NewValue3\\n\\n\"\"\"\n",
    "        yam_txt +=f\"\"\"\n",
    "        {header_overide_txt}\n",
    "        {column_specific_value_override}\"\"\"\n",
    "    to_write += yam_txt\n",
    "\n",
    "with open('overrides.yaml', 'w+') as y:\n",
    "    y.write(to_write)\n"
   ]
  },
  {
   "cell_type": "code",
   "execution_count": 12,
   "metadata": {},
   "outputs": [
    {
     "ename": "NameError",
     "evalue": "name 'column' is not defined",
     "output_type": "error",
     "traceback": [
      "\u001b[0;31m---------------------------------------------------------------------------\u001b[0m",
      "\u001b[0;31mNameError\u001b[0m                                 Traceback (most recent call last)",
      "\u001b[0;32m<ipython-input-12-98192002c7a3>\u001b[0m in \u001b[0;36m<module>\u001b[0;34m\u001b[0m\n\u001b[1;32m      2\u001b[0m \u001b[0mcsv_gen\u001b[0m \u001b[0;34m=\u001b[0m \u001b[0mfind_csv_urls\u001b[0m\u001b[0;34m(\u001b[0m\u001b[0mremote_data_url\u001b[0m\u001b[0;34m)\u001b[0m\u001b[0;34m\u001b[0m\u001b[0;34m\u001b[0m\u001b[0m\n\u001b[1;32m      3\u001b[0m yam_dict={'generic_overrides':\n\u001b[0;32m----> 4\u001b[0;31m           {'FILL_NA' : f'{column.replace(\" \",\"_\")}_gap_filler_value',\n\u001b[0m\u001b[1;32m      5\u001b[0m           \u001b[0;34m'OldValue1'\u001b[0m \u001b[0;34m:\u001b[0m \u001b[0;34m'NewValue1'\u001b[0m\u001b[0;34m,\u001b[0m\u001b[0;34m\u001b[0m\u001b[0;34m\u001b[0m\u001b[0m\n\u001b[1;32m      6\u001b[0m           \u001b[0;34m'OldValue2'\u001b[0m \u001b[0;34m:\u001b[0m \u001b[0;34m'NewValue2'\u001b[0m\u001b[0;34m,\u001b[0m\u001b[0;34m\u001b[0m\u001b[0;34m\u001b[0m\u001b[0m\n",
      "\u001b[0;31mNameError\u001b[0m: name 'column' is not defined"
     ]
    }
   ],
   "source": [
    "# Yaml dump version\n",
    "csv_gen = find_csv_urls(remote_data_url)\n",
    "yam_dict={'generic_overrides':\n",
    "          {'FILL_NA' : f'{column.replace(\" \",\"_\")}_gap_filler_value',\n",
    "          'OldValue1' : 'NewValue1',\n",
    "          'OldValue2' : 'NewValue2',\n",
    "          'OldValue3' : 'NewValue3'}}\n",
    "for url in csv_gen:\n",
    "    if \"no data for this indicator yet\" in str(bs(requests.get(url).text)):\n",
    "        continue\n",
    "    df = pd.read_csv(url)\n",
    "#     import ipdb; ipdb.set_trace()\n",
    "    column_specific_value_dict= {}\n",
    "    for column in df.columns:\n",
    "        if column == 'Value':\n",
    "            continue\n",
    "        column_specific_value_dict[column]= {'to' : f'correct_header_for_{column.replace(\" \",\"_\")}',\n",
    "            'FILL_NA' : f'{column.replace(\" \",\"_\")}_gap_filler_value',\n",
    "            'OldValue1' : 'NewValue1',\n",
    "            'OldValue2' : 'NewValue2',\n",
    "            'OldValue3' : 'NewValue3'}\n",
    "    yam_dict[url] = column_specific_value_dict\n",
    "\n",
    "    \n",
    "    \n",
    "with open('overrides_dict.yaml', 'w') as yam:\n",
    "    dump(yam_dict, yam)\n"
   ]
  },
  {
   "cell_type": "code",
   "execution_count": 13,
   "metadata": {},
   "outputs": [
    {
     "ename": "NameError",
     "evalue": "name 'generic_from_yam' is not defined",
     "output_type": "error",
     "traceback": [
      "\u001b[0;31m---------------------------------------------------------------------------\u001b[0m",
      "\u001b[0;31mNameError\u001b[0m                                 Traceback (most recent call last)",
      "\u001b[0;32m<ipython-input-13-173ab05a9904>\u001b[0m in \u001b[0;36m<module>\u001b[0;34m\u001b[0m\n\u001b[0;32m----> 1\u001b[0;31m \u001b[0mgeneric_from_yam\u001b[0m\u001b[0;34m\u001b[0m\u001b[0;34m\u001b[0m\u001b[0m\n\u001b[0m",
      "\u001b[0;31mNameError\u001b[0m: name 'generic_from_yam' is not defined"
     ]
    }
   ],
   "source": [
    "generic_from_yam"
   ]
  },
  {
   "cell_type": "code",
   "execution_count": null,
   "metadata": {},
   "outputs": [],
   "source": []
  },
  {
   "cell_type": "code",
   "execution_count": null,
   "metadata": {},
   "outputs": [],
   "source": []
  }
 ],
 "metadata": {
  "kernelspec": {
   "display_name": "Python 3",
   "language": "python",
   "name": "python3"
  },
  "language_info": {
   "codemirror_mode": {
    "name": "ipython",
    "version": 3
   },
   "file_extension": ".py",
   "mimetype": "text/x-python",
   "name": "python",
   "nbconvert_exporter": "python",
   "pygments_lexer": "ipython3",
   "version": "3.8.5"
  }
 },
 "nbformat": 4,
 "nbformat_minor": 4
}
