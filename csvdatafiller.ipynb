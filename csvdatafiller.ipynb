{
 "cells": [
  {
   "cell_type": "code",
   "execution_count": 14,
   "metadata": {
    "scrolled": true
   },
   "outputs": [],
   "source": [
    "# -*- coding: utf-8 -*-\n",
    "# imports\n",
    "import pandas as pd\n",
    "import requests\n",
    "import re\n",
    "import os\n",
    "from yaml import safe_load, dump\n",
    "from bs4 import BeautifulSoup as bs\n",
    "import random\n",
    "from modules import prevent_bad_replacement, delete_random_values, write_csv, standardise_cell_values, fill_gaps, csvs_to_pandas, find_csv_urls, get_mapping_dicts, override_writer\n",
    "\n",
    "\n",
    "\"\"\"\n",
    "sdg-csv-data-filler is the first module in a data pipeline to take\n",
    "data from the SDG data repo and make it exportable as CSVW.\n",
    "\"\"\"\n",
    "\n",
    "# setting paths to directories and files\n",
    "remote_data_url = \"https://github.com/ONSdigital/sdg-data/tree/develop/data\"\n",
    "cwd = os.getcwd()\n",
    "data_path = os.path.join(cwd, 'data')\n",
    "out_path = os.path.join(cwd, 'out')\n",
    "overrides_yam = (os.path.join(cwd,\"overrides_dict.yaml\"))\n"
   ]
  },
  {
   "cell_type": "code",
   "execution_count": 15,
   "metadata": {
    "scrolled": true
   },
   "outputs": [],
   "source": [
    "def entry_point(data_url):\n",
    "    # generate urls\n",
    "    urls_gen = find_csv_urls(data_url)\n",
    "    with open('overrides_dict.yaml') as file:\n",
    "        generic_from_yam = safe_load(file)['generic_overrides']\n",
    "\n",
    "    # define pattern for name matching outside the for-loop. Used for writing out later\n",
    "    pattern = \"(indicator_\\d{1,2}-\\d{1,2}-\\d+\\.csv)$\"\n",
    "\n",
    "    # create an empty results dict\n",
    "    results = {}\n",
    "\n",
    "    for _url in urls_gen:\n",
    "        # get the overrides dict for this dataset\n",
    "        overrides_dict = get_mapping_dicts(overrides_yam, _url)\n",
    "        # Create df\n",
    "        df = csvs_to_pandas(_url)\n",
    "        if df.empty: # sometimes no df will be returned so it needs to be skipped\n",
    "            continue\n",
    "        # Apply transformations to the df \n",
    "        df = override_writer(df, overrides_dict)\n",
    "        \n",
    "        #get dataset name\n",
    "        file_name = f\"{re.search(pattern, _url).group(0)}\"\n",
    "\n",
    "        #Writing the df to csv locally. \n",
    "        was_written = write_csv(df, out_path, file_name)\n",
    "        results[file_name] = was_written\n",
    "\n",
    "    return results\n",
    "\n",
    "# if __name__ == \"__main__\":\n",
    "#     entry_point(data_url=remote_data_url)\n",
    "\n",
    "# def proof_of_concept_2(url_to_csv,\n",
    "#                      overrides=overrides_yam,\n",
    "#                      out_path=out_path):\n",
    "#     # Create df. \n",
    "#     df = csvs_to_pandas(url_to_csv)\n",
    "#     #Get overrides dict\n",
    "#     overrides_dict = get_mapping_dicts(overrides, url_to_csv)\n",
    "#     # Testing that the overrides work\n",
    "#     df = override_writer(df, overrides_dict)\n",
    "#     #Writing the df to csv locally. \n",
    "#     pattern = \"(indicator_\\d{1,2}-\\d{1,2}-\\d+\\.csv)$\"\n",
    "#     file_name = f\"poc2_{re.search(pattern, url_to_csv).group(0)}\"\n",
    "#     was_written = write_csv(df, out_path, file_name)\n",
    "#     return df, was_written"
   ]
  },
  {
   "cell_type": "code",
   "execution_count": 16,
   "metadata": {
    "tags": []
   },
   "outputs": [
    {
     "output_type": "error",
     "ename": "NameError",
     "evalue": "name &#39;nan&#39; is not defined",
     "traceback": [
      "\u001b[1;31m---------------------------------------------------------------------------\u001b[0m",
      "\u001b[1;31mNameError\u001b[0m                                 Traceback (most recent call last)",
      "\u001b[1;32m&lt;ipython-input-16-6c1ac8caa31b&gt;\u001b[0m in \u001b[0;36m&lt;module&gt;\u001b[1;34m\u001b[0m\n\u001b[1;32m----&gt; 1\u001b[1;33m \u001b[0mresults\u001b[0m \u001b[1;33m=\u001b[0m \u001b[0mentry_point\u001b[0m\u001b[1;33m(\u001b[0m\u001b[0mdata_url\u001b[0m\u001b[1;33m=\u001b[0m\u001b[0mremote_data_url\u001b[0m\u001b[1;33m)\u001b[0m\u001b[1;33m\u001b[0m\u001b[1;33m\u001b[0m\u001b[0m\n\u001b[0m",
      "\u001b[1;32m&lt;ipython-input-15-694aa1cb08d3&gt;\u001b[0m in \u001b[0;36mentry_point\u001b[1;34m(data_url)\u001b[0m\n\u001b[0;32m     19\u001b[0m             \u001b[1;32mcontinue\u001b[0m\u001b[1;33m\u001b[0m\u001b[1;33m\u001b[0m\u001b[0m\n\u001b[0;32m     20\u001b[0m         \u001b[1;31m# Apply transformations to the df\u001b[0m\u001b[1;33m\u001b[0m\u001b[1;33m\u001b[0m\u001b[1;33m\u001b[0m\u001b[0m\n\u001b[1;32m---&gt; 21\u001b[1;33m         \u001b[0mdf\u001b[0m \u001b[1;33m=\u001b[0m \u001b[0moverride_writer\u001b[0m\u001b[1;33m(\u001b[0m\u001b[0mdf\u001b[0m\u001b[1;33m,\u001b[0m \u001b[0moverrides_dict\u001b[0m\u001b[1;33m)\u001b[0m\u001b[1;33m\u001b[0m\u001b[1;33m\u001b[0m\u001b[0m\n\u001b[0m\u001b[0;32m     22\u001b[0m \u001b[1;33m\u001b[0m\u001b[0m\n\u001b[0;32m     23\u001b[0m         \u001b[1;31m#get dataset name\u001b[0m\u001b[1;33m\u001b[0m\u001b[1;33m\u001b[0m\u001b[1;33m\u001b[0m\u001b[0m\n",
      "\u001b[1;32mC:\\Users\\Dawn Snape\\Documents\\programming\\sdg-csv-data-filler\\modules.py\u001b[0m in \u001b[0;36moverride_writer\u001b[1;34m(df, overrides_dict)\u001b[0m\n\u001b[0;32m    197\u001b[0m             \u001b[1;32mif\u001b[0m \u001b[0mcolumn\u001b[0m \u001b[1;32min\u001b[0m \u001b[1;33m[\u001b[0m\u001b[1;34m&#39;value&#39;\u001b[0m\u001b[1;33m,\u001b[0m\u001b[1;34m&#39;Value&#39;\u001b[0m\u001b[1;33m]\u001b[0m\u001b[1;33m:\u001b[0m\u001b[1;33m\u001b[0m\u001b[1;33m\u001b[0m\u001b[0m\n\u001b[0;32m    198\u001b[0m                 \u001b[1;32mcontinue\u001b[0m \u001b[1;31m#skipping because Value is never a key in the dict\u001b[0m\u001b[1;33m\u001b[0m\u001b[1;33m\u001b[0m\u001b[0m\n\u001b[1;32m--&gt; 199\u001b[1;33m \u001b[1;31m#             import ipdb; ipdb.set_trace()\u001b[0m\u001b[1;33m\u001b[0m\u001b[1;33m\u001b[0m\u001b[1;33m\u001b[0m\u001b[0m\n\u001b[0m\u001b[0;32m    200\u001b[0m             \u001b[0mdf\u001b[0m\u001b[1;33m[\u001b[0m\u001b[0mcolumn\u001b[0m\u001b[1;33m]\u001b[0m\u001b[1;33m.\u001b[0m\u001b[0mreplace\u001b[0m\u001b[1;33m(\u001b[0m\u001b[1;34m&#39;nan&#39;\u001b[0m\u001b[1;33m,\u001b[0m\u001b[0mnan\u001b[0m\u001b[1;33m,\u001b[0m \u001b[0minplace\u001b[0m\u001b[1;33m=\u001b[0m\u001b[1;32mTrue\u001b[0m\u001b[1;33m)\u001b[0m \u001b[1;31m#replacing string &#39;nan&#39; with numpy.nan\u001b[0m\u001b[1;33m\u001b[0m\u001b[1;33m\u001b[0m\u001b[0m\n\u001b[0;32m    201\u001b[0m             df[column].fillna(\n",
      "\u001b[1;31mNameError\u001b[0m: name &#39;nan&#39; is not defined"
     ]
    }
   ],
   "source": [
    "results = entry_point(data_url=remote_data_url)"
   ]
  },
  {
   "cell_type": "code",
   "execution_count": null,
   "metadata": {},
   "outputs": [],
   "source": []
  }
 ],
 "metadata": {
  "kernelspec": {
   "display_name": "Python 3",
   "language": "python",
   "name": "python3"
  },
  "language_info": {
   "codemirror_mode": {
    "name": "ipython",
    "version": 3
   },
   "file_extension": ".py",
   "mimetype": "text/x-python",
   "name": "python",
   "nbconvert_exporter": "python",
   "pygments_lexer": "ipython3",
   "version": "3.7.4-final"
  }
 },
 "nbformat": 4,
 "nbformat_minor": 4
}