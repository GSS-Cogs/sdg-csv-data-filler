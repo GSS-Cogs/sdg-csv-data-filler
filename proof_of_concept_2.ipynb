{
 "cells": [
  {
   "cell_type": "markdown",
   "metadata": {},
   "source": [
    "# Proof of concept 2\n",
    "\n",
    "Demonstrating that all the functions work with the actual override dictionaries and full data sets (rather than samples). "
   ]
  },
  {
   "cell_type": "code",
   "execution_count": 1,
   "metadata": {},
   "outputs": [],
   "source": [
    "import pandas as pd\n",
    "import os\n",
    "import re\n",
    "from yaml import safe_load, dump\n",
    "from modules import prevent_bad_replacement, delete_random_values, write_csv, standardise_cell_values, fill_gaps, csvs_to_pandas, find_csv_urls, get_mapping_dicts"
   ]
  },
  {
   "cell_type": "code",
   "execution_count": 2,
   "metadata": {},
   "outputs": [],
   "source": [
    "csv_1_path = \"https://raw.githubusercontent.com/ONSdigital/sdg-data/develop/data/indicator_1-2-1.csv\"\n",
    "csv_4_path = \"https://raw.githubusercontent.com/ONSdigital/sdg-data/develop/data/indicator_8-4-1.csv\""
   ]
  },
  {
   "cell_type": "code",
   "execution_count": 3,
   "metadata": {
    "scrolled": true
   },
   "outputs": [],
   "source": [
    "cwd = os.getcwd()\n",
    "overrides_yam = (os.path.join(cwd,\"overrides_dict.yaml\"))\n",
    "data_path = os.path.join(cwd, 'data')\n",
    "out_path = os.path.join(cwd, 'out')"
   ]
  },
  {
   "cell_type": "code",
   "execution_count": 4,
   "metadata": {
    "scrolled": true
   },
   "outputs": [
    {
     "data": {
      "text/plain": [
       "{'Age': {'FILL_NA': 'Age_gap_filler_value',\n",
       "  'OldValue1': 'NewValue1',\n",
       "  'OldValue2': 'NewValue2',\n",
       "  'OldValue3': 'NewValue3',\n",
       "  'to': 'correct_header_for_Age'},\n",
       " 'Observation status': {'FILL_NA': 'Observation_status_gap_filler_value',\n",
       "  'OldValue1': 'NewValue1',\n",
       "  'OldValue2': 'NewValue2',\n",
       "  'OldValue3': 'NewValue3',\n",
       "  'to': 'correct_header_for_Observation_status'},\n",
       " 'Sex': {'FILL_NA': 'Sex_gap_filler_value',\n",
       "  'OldValue1': 'NewValue1',\n",
       "  'OldValue2': 'NewValue2',\n",
       "  'OldValue3': 'NewValue3',\n",
       "  'to': 'correct_header_for_Sex'},\n",
       " 'Unit measure': {'FILL_NA': 'Unit_measure_gap_filler_value',\n",
       "  'OldValue1': 'NewValue1',\n",
       "  'OldValue2': 'NewValue2',\n",
       "  'OldValue3': 'NewValue3',\n",
       "  'to': 'correct_header_for_Unit_measure'},\n",
       " 'Unit multiplier': {'FILL_NA': 'Unit_multiplier_gap_filler_value',\n",
       "  'OldValue1': 'NewValue1',\n",
       "  'OldValue2': 'NewValue2',\n",
       "  'OldValue3': 'NewValue3',\n",
       "  'to': 'correct_header_for_Unit_multiplier'},\n",
       " 'Year': {'FILL_NA': 'Year_gap_filler_value',\n",
       "  'OldValue1': 'NewValue1',\n",
       "  'OldValue2': 'NewValue2',\n",
       "  'OldValue3': 'NewValue3',\n",
       "  'to': 'correct_header_for_Year'},\n",
       " 'fill_gaps': True,\n",
       " 'fix_headers': False,\n",
       " 'standardise_cells': True}"
      ]
     },
     "execution_count": 4,
     "metadata": {},
     "output_type": "execute_result"
    }
   ],
   "source": [
    "overrides_dict = get_mapping_dicts(overrides_yam, csv_1_path)\n",
    "overrides_dict"
   ]
  },
  {
   "cell_type": "code",
   "execution_count": 5,
   "metadata": {},
   "outputs": [],
   "source": [
    "def override_writer(df, overrides_dict):\n",
    "    \"\"\"Takes the data frame and makes column-specific replacements or overrides. \n",
    "        If fix_headers is True (False is default), it will change the headers to name in the overides dict. \n",
    "        If standardise_cells is True (default), it will search for the value to be replaced and if found\n",
    "        the value will be replaced. If fill_gaps is True (default) it will fill any gaps with the replacement\n",
    "        value. \n",
    "        \n",
    "        Parameters:\n",
    "            df (pd.Dataframe): dataframe to be processed\n",
    "            overrides_dict (dict): The overrides dictionary specific to the dataset being processed\n",
    "            \n",
    "        Returns:\n",
    "            pd.Dataframe: complete with requested value overrides \n",
    "    \"\"\"\n",
    "    fix_headers = overrides_dict['fix_headers']\n",
    "    standardise_cells = overrides_dict['standardise_cells']\n",
    "    fill_gaps = overrides_dict['fill_gaps']\n",
    "    if fix_headers:\n",
    "        #not used at the moment\n",
    "        pass\n",
    "    if standardise_cells:\n",
    "        for column in df.columns:\n",
    "            if column in ['value','Value']: \n",
    "                continue #skipping because Value is never a key in the dict\n",
    "            import ipdb; ipdb.set_trace()\n",
    "            df[column] = df[column].map(\n",
    "                overrides_dict[column],\n",
    "                na_action='ignore')\n",
    "    if fill_gaps:\n",
    "        for column in df.columns:\n",
    "            if column in ['value','Value']: \n",
    "                continue #skipping because Value is never a key in the dict\n",
    "            df[column].fillna(\n",
    "                value=overrides_dict[column]['FILL_NA'],\n",
    "                inplace=True)\n",
    "    return df"
   ]
  },
  {
   "cell_type": "markdown",
   "metadata": {},
   "source": [
    "# Struggling with pd.Series.map(dict)"
   ]
  },
  {
   "cell_type": "code",
   "execution_count": null,
   "metadata": {
    "scrolled": false
   },
   "outputs": [],
   "source": [
    "def proof_of_concept_2(url_to_csv,\n",
    "                     overrides=overrides_yam,\n",
    "                     out_path=out_path):\n",
    "    # Create df. \n",
    "    df = csvs_to_pandas(url_to_csv)\n",
    "    #Get overrides dict\n",
    "    overrides_dict = get_mapping_dicts(overrides, url_to_csv)\n",
    "    # Testing that the overrides work\n",
    "    df = override_writer(df, overrides_dict)\n",
    "    #Writing the df to csv locally. \n",
    "    pattern = \"(indicator_\\d{1,2}-\\d{1,2}-\\d+\\.csv)$\"\n",
    "    \n",
    "    file_name = f\"poc2_{re.search(pattern, url_to_csv).group(0)}\"\n",
    "    was_written = write_csv(df, out_path, file_name)\n",
    "    return df, was_written\n",
    "\n",
    "poc_df, was_written = proof_of_concept_2(csv_1_path)"
   ]
  },
  {
   "cell_type": "code",
   "execution_count": 7,
   "metadata": {},
   "outputs": [
    {
     "data": {
      "text/plain": [
       "True"
      ]
     },
     "execution_count": 7,
     "metadata": {},
     "output_type": "execute_result"
    }
   ],
   "source": [
    "was_written\n"
   ]
  },
  {
   "cell_type": "code",
   "execution_count": null,
   "metadata": {},
   "outputs": [],
   "source": [
    "remote_data_url = r\"https://github.com/ONSdigital/sdg-data/tree/develop/data\"\n",
    "\n",
    "for url in [csv_1_path, csv_4_path]:\n",
    "    df, written = proof_of_concept_2(url_to_csv,\n",
    "                                     overrides=overrides_yam,\n",
    "                                     out_path=out_path)\n",
    "    file_name = f\"{re.search(pattern, url).group(0)}\"\n",
    "    results_dict[file_name] = {'df':df,'written_out':written}"
   ]
  }
 ],
 "metadata": {
  "kernelspec": {
   "display_name": "Python 3",
   "language": "python",
   "name": "python3"
  },
  "language_info": {
   "codemirror_mode": {
    "name": "ipython",
    "version": 3
   },
   "file_extension": ".py",
   "mimetype": "text/x-python",
   "name": "python",
   "nbconvert_exporter": "python",
   "pygments_lexer": "ipython3",
   "version": "3.8.5"
  }
 },
 "nbformat": 4,
 "nbformat_minor": 4
}
