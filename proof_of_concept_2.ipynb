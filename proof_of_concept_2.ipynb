{
 "cells": [
  {
   "cell_type": "markdown",
   "metadata": {},
   "source": [
    "# Proof of concept 2\n",
    "\n",
    "Demonstrating that all the functions work with the actual override dictionaries and full data sets (rather than samples). "
   ]
  },
  {
   "cell_type": "code",
   "execution_count": 5,
   "metadata": {},
   "outputs": [],
   "source": [
    "import pandas as pd\n",
    "import os\n",
    "import re\n",
    "from yaml import safe_load, dump\n",
    "from modules import prevent_bad_replacement, delete_random_values, write_csv, standardise_cell_values, fill_gaps, csvs_to_pandas, find_csv_urls, get_mapping_dicts"
   ]
  },
  {
   "cell_type": "code",
   "execution_count": 6,
   "metadata": {},
   "outputs": [],
   "source": [
    "csv_1_path = \"https://raw.githubusercontent.com/ONSdigital/sdg-data/develop/data/indicator_1-2-1.csv\"\n",
    "csv_4_path = \"https://raw.githubusercontent.com/ONSdigital/sdg-data/develop/data/indicator_8-4-1.csv\""
   ]
  },
  {
   "cell_type": "code",
   "execution_count": 7,
   "metadata": {
    "scrolled": true
   },
   "outputs": [],
   "source": [
    "cwd = os.getcwd()\n",
    "overrides_yam = (os.path.join(cwd,\"overrides_dict.yaml\"))\n",
    "data_path = os.path.join(cwd, 'data')\n",
    "out_path = os.path.join(cwd, 'out')\n"
   ]
  },
  {
   "cell_type": "code",
   "execution_count": 8,
   "metadata": {},
   "outputs": [
    {
     "ename": "NameError",
     "evalue": "name 'df' is not defined",
     "output_type": "error",
     "traceback": [
      "\u001b[0;31m---------------------------------------------------------------------------\u001b[0m",
      "\u001b[0;31mNameError\u001b[0m                                 Traceback (most recent call last)",
      "\u001b[0;32m<ipython-input-8-8f9cb8cc7aa0>\u001b[0m in \u001b[0;36m<module>\u001b[0;34m\u001b[0m\n\u001b[1;32m      1\u001b[0m \u001b[0moverrides_dict\u001b[0m \u001b[0;34m=\u001b[0m \u001b[0mget_mapping_dicts\u001b[0m\u001b[0;34m(\u001b[0m\u001b[0moverrides_yam\u001b[0m\u001b[0;34m,\u001b[0m \u001b[0mcsv_1_path\u001b[0m\u001b[0;34m)\u001b[0m\u001b[0;34m\u001b[0m\u001b[0;34m\u001b[0m\u001b[0m\n\u001b[0;32m----> 2\u001b[0;31m \u001b[0mprevent_bad_replacement\u001b[0m\u001b[0;34m(\u001b[0m\u001b[0moverrides_dict\u001b[0m\u001b[0;34m,\u001b[0m \u001b[0mdf\u001b[0m\u001b[0;34m)\u001b[0m\u001b[0;34m\u001b[0m\u001b[0;34m\u001b[0m\u001b[0m\n\u001b[0m",
      "\u001b[0;31mNameError\u001b[0m: name 'df' is not defined"
     ]
    }
   ],
   "source": [
    "\n"
   ]
  },
  {
   "cell_type": "code",
   "execution_count": 10,
   "metadata": {
    "scrolled": true
   },
   "outputs": [
    {
     "data": {
      "text/plain": [
       "{'Age': {'FILL_NA': 'Age_gap_filler_value',\n",
       "  'OldValue1': 'NewValue1',\n",
       "  'OldValue2': 'NewValue2',\n",
       "  'OldValue3': 'NewValue3',\n",
       "  'to': 'correct_header_for_Age'},\n",
       " 'Observation status': {'FILL_NA': 'Observation_status_gap_filler_value',\n",
       "  'OldValue1': 'NewValue1',\n",
       "  'OldValue2': 'NewValue2',\n",
       "  'OldValue3': 'NewValue3',\n",
       "  'to': 'correct_header_for_Observation_status'},\n",
       " 'Sex': {'FILL_NA': 'Sex_gap_filler_value',\n",
       "  'OldValue1': 'NewValue1',\n",
       "  'OldValue2': 'NewValue2',\n",
       "  'OldValue3': 'NewValue3',\n",
       "  'to': 'correct_header_for_Sex'},\n",
       " 'Unit measure': {'FILL_NA': 'Unit_measure_gap_filler_value',\n",
       "  'OldValue1': 'NewValue1',\n",
       "  'OldValue2': 'NewValue2',\n",
       "  'OldValue3': 'NewValue3',\n",
       "  'to': 'correct_header_for_Unit_measure'},\n",
       " 'Unit multiplier': {'FILL_NA': 'Unit_multiplier_gap_filler_value',\n",
       "  'OldValue1': 'NewValue1',\n",
       "  'OldValue2': 'NewValue2',\n",
       "  'OldValue3': 'NewValue3',\n",
       "  'to': 'correct_header_for_Unit_multiplier'},\n",
       " 'Year': {'FILL_NA': 'Year_gap_filler_value',\n",
       "  'OldValue1': 'NewValue1',\n",
       "  'OldValue2': 'NewValue2',\n",
       "  'OldValue3': 'NewValue3',\n",
       "  'to': 'correct_header_for_Year'}}"
      ]
     },
     "execution_count": 10,
     "metadata": {},
     "output_type": "execute_result"
    }
   ],
   "source": [
    "overrides_dict = get_mapping_dicts(overrides_yam, csv_1_path)\n",
    "overrides_dict"
   ]
  },
  {
   "cell_type": "code",
   "execution_count": 12,
   "metadata": {},
   "outputs": [],
   "source": [
    "def override_writer(df, overrides_dict):\n",
    "    \"\"\"Takes the data frame and makes column-specific replacements or overrides. \n",
    "        If fix_headers is True (False is default), it will change the headers to name in the overides dict. \n",
    "        If standardise_cells is True (default), it will search for the value to be replaced and if found\n",
    "        the value will be replaced. If fill_gaps is True (default) it will fill any gaps with the replacement\n",
    "        value. \n",
    "        \n",
    "        Parameters:\n",
    "            df (pd.Dataframe): dataframe to be processed\n",
    "            overrides_dict (dict): The overrides dictionary specific to the dataset being processed\n",
    "            \n",
    "        Returns:\n",
    "            pd.Dataframe: complete with requested value overrides \n",
    "    \"\"\"\n",
    "    fix_headers = overrides_dict['fix_headers']\n",
    "    standardise_cells = overrides_dict['standardise_cells']\n",
    "    fill_gaps = overrides_dict['fill_gaps']\n",
    "    if fix_headers:\n",
    "        pass\n",
    "    if standardise_cells:\n",
    "        for column in df.columns:\n",
    "            df[column].replace(to_replace=overrides_dict[column])\n",
    "    if fill_gaps:\n",
    "        for column in df.columns:\n",
    "            df[column].fillna(value=overrides_dict[column]['FILL_NA'])"
   ]
  },
  {
   "cell_type": "code",
   "execution_count": 6,
   "metadata": {},
   "outputs": [
    {
     "ename": "NameError",
     "evalue": "name 'test_yam_path' is not defined",
     "output_type": "error",
     "traceback": [
      "\u001b[0;31m---------------------------------------------------------------------------\u001b[0m",
      "\u001b[0;31mNameError\u001b[0m                                 Traceback (most recent call last)",
      "\u001b[0;32m<ipython-input-6-db773ca9cff6>\u001b[0m in \u001b[0;36m<module>\u001b[0;34m\u001b[0m\n\u001b[1;32m      1\u001b[0m def proof_of_concept_2(url_to_csv,\n\u001b[1;32m      2\u001b[0m                      \u001b[0moverrides\u001b[0m\u001b[0;34m=\u001b[0m\u001b[0moverrides_yam\u001b[0m\u001b[0;34m,\u001b[0m\u001b[0;34m\u001b[0m\u001b[0;34m\u001b[0m\u001b[0m\n\u001b[0;32m----> 3\u001b[0;31m                      \u001b[0mpath\u001b[0m\u001b[0;34m=\u001b[0m\u001b[0mtest_yam_path\u001b[0m\u001b[0;34m,\u001b[0m\u001b[0;34m\u001b[0m\u001b[0;34m\u001b[0m\u001b[0m\n\u001b[0m\u001b[1;32m      4\u001b[0m                      \u001b[0mout_path\u001b[0m\u001b[0;34m=\u001b[0m\u001b[0mout_path\u001b[0m\u001b[0;34m,\u001b[0m\u001b[0;34m\u001b[0m\u001b[0;34m\u001b[0m\u001b[0m\n\u001b[1;32m      5\u001b[0m                      file_name=\"test_df.csv\"):\n",
      "\u001b[0;31mNameError\u001b[0m: name 'test_yam_path' is not defined"
     ]
    }
   ],
   "source": [
    "def proof_of_concept_2(url_to_csv,\n",
    "                     overrides=overrides_yam, \n",
    "                     path=test_yam_path,\n",
    "                     out_path=out_path,\n",
    "                     file_name=\"test_df.csv\"):\n",
    "    # Create df. \n",
    "    df = csvs_to_pandas(url_to_csv)\n",
    "    #Get overrides dict\n",
    "    overrides_dict = get_mapping_dicts(overrides, url_to_csv)\n",
    "    # Testing that the filler dict works\n",
    "    refilled_df = holey_df.fillna(value=overrides_dict)\n",
    "    # Testing that standardise dict dills gaps as expected\n",
    "    samp_df = standardise_cell_values(refilled_df, nonstandard_standard)\n",
    "    #Writing the df to csv locally. \n",
    "    was_written = write_csv(samp_df, out_path, 'sample.csv')\n",
    "    return samp_df, was_written\n",
    "\n",
    "poc_df, was_written = proof_of_concept(csv_path, path=test_yam_path)"
   ]
  },
  {
   "cell_type": "code",
   "execution_count": null,
   "metadata": {},
   "outputs": [],
   "source": []
  },
  {
   "cell_type": "code",
   "execution_count": 31,
   "metadata": {},
   "outputs": [],
   "source": [
    "remote_data_url = r\"https://github.com/ONSdigital/sdg-data/tree/develop/data\"\n",
    "csv_gen = find_csv_urls(remote_data_url)\n",
    "\n",
    "results_dict = {}\n",
    "for url in csv_gen:\n",
    "    df, written = proof_of_concept(csv_path,\n",
    "                                   ns=dict_of_nonstandard_standard_path,\n",
    "                                   path=test_yam_path,\n",
    "                                   out_path=out_path,\n",
    "                                   file_name=\"placeholder\")\n",
    "    file_name = f\"{re.search(pattern, url).group(0)}\"\n",
    "    results_dict[file_name] = {'df':df,'written_out':written}"
   ]
  },
  {
   "cell_type": "code",
   "execution_count": null,
   "metadata": {},
   "outputs": [],
   "source": []
  },
  {
   "cell_type": "markdown",
   "metadata": {},
   "source": [
    "## Printing out three resulting dataframes and whether they were written locally"
   ]
  },
  {
   "cell_type": "code",
   "execution_count": null,
   "metadata": {},
   "outputs": [],
   "source": []
  }
 ],
 "metadata": {
  "kernelspec": {
   "display_name": "Python 3",
   "language": "python",
   "name": "python3"
  },
  "language_info": {
   "codemirror_mode": {
    "name": "ipython",
    "version": 3
   },
   "file_extension": ".py",
   "mimetype": "text/x-python",
   "name": "python",
   "nbconvert_exporter": "python",
   "pygments_lexer": "ipython3",
   "version": "3.8.5"
  }
 },
 "nbformat": 4,
 "nbformat_minor": 4
}
