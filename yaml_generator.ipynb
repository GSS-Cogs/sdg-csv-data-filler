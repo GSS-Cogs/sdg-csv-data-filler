{
 "cells": [
  {
   "cell_type": "code",
   "execution_count": 18,
   "metadata": {},
   "outputs": [],
   "source": [
    "from modules import find_csv_urls\n",
    "from bs4 import BeautifulSoup as bs\n",
    "import requests\n",
    "import pandas as pd\n",
    "from yaml import dump"
   ]
  },
  {
   "cell_type": "code",
   "execution_count": 19,
   "metadata": {},
   "outputs": [],
   "source": [
    "remote_data_url = r\"https://github.com/ONSdigital/sdg-data/tree/develop/data\"\n"
   ]
  },
  {
   "cell_type": "markdown",
   "metadata": {},
   "source": [
    "TODO: include these key:value pairs for every dataset\n",
    "fix_headers : False\n",
    "standardise_cells : True \n",
    "fill_gaps : True"
   ]
  },
  {
   "cell_type": "code",
   "execution_count": 23,
   "metadata": {},
   "outputs": [],
   "source": [
    "# Yaml dump version\n",
    "csv_gen = find_csv_urls(remote_data_url)\n",
    "yam_dict={'generic_overrides':\n",
    "          {'FILL_NA' : 'generic_gap_filler_value',\n",
    "          'OldValue1' : 'NewValue1',\n",
    "          'OldValue2' : 'NewValue2',\n",
    "          'OldValue3' : 'NewValue3'}}\n",
    "for url in csv_gen:\n",
    "    if \"no data for this indicator yet\" in str(bs(requests.get(url).text)):\n",
    "        continue\n",
    "    df = pd.read_csv(url)\n",
    "#     import ipdb; ipdb.set_trace()\n",
    "    column_specific_value_dict= {}\n",
    "    for column in df.columns:\n",
    "        if column == 'Value':\n",
    "            continue\n",
    "        column_specific_value_dict[column]= {'to' : f'correct_header_for_{column.replace(\" \",\"_\")}',\n",
    "            'FILL_NA' : f'{column.replace(\" \",\"_\")}_gap_filler_value',\n",
    "            'OldValue1' : 'NewValue1',\n",
    "            'OldValue2' : 'NewValue2',\n",
    "            'OldValue3' : 'NewValue3',\n",
    "            'fix_headers' : False,\n",
    "            'standardise_cells' : True,\n",
    "            'fill_gaps' : True}\n",
    "    yam_dict[url] = column_specific_value_dict\n",
    "\n",
    "    \n",
    "with open('overrides_dict.yaml', 'w') as yam:\n",
    "    dump(yam_dict, yam)"
   ]
  },
  {
   "cell_type": "code",
   "execution_count": null,
   "metadata": {},
   "outputs": [],
   "source": []
  }
 ],
 "metadata": {
  "kernelspec": {
   "display_name": "Python 3",
   "language": "python",
   "name": "python3"
  },
  "language_info": {
   "codemirror_mode": {
    "name": "ipython",
    "version": 3
   },
   "file_extension": ".py",
   "mimetype": "text/x-python",
   "name": "python",
   "nbconvert_exporter": "python",
   "pygments_lexer": "ipython3",
   "version": "3.8.5"
  }
 },
 "nbformat": 4,
 "nbformat_minor": 4
}
